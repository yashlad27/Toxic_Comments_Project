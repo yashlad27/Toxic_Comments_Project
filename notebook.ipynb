{
 "cells": [
  {
   "cell_type": "markdown",
   "id": "f4c73c30",
   "metadata": {},
   "source": [
    "# Imports"
   ]
  },
  {
   "cell_type": "code",
   "execution_count": 1,
   "id": "d60e9fff",
   "metadata": {},
   "outputs": [],
   "source": [
    "import numpy as np\n",
    "import pandas as pd\n",
    "import matplotlib.pyplot as plt\n",
    "from sklearn.neighbors import KNeighborsClassifier\n",
    "from nltk.corpus import stopwords\n",
    "# from nltk.stem.lancaster import LancasterStemmer\n",
    "from nltk.stem import WordNetLemmatizer\n",
    "import re\n",
    "import string"
   ]
  },
  {
   "cell_type": "markdown",
   "id": "38030216",
   "metadata": {},
   "source": [
    "# Label Classes"
   ]
  },
  {
   "cell_type": "code",
   "execution_count": 12,
   "id": "e237483e",
   "metadata": {},
   "outputs": [],
   "source": [
    "stop = stopwords.words('english')\n",
    "df = pd.read_csv(\"dataset/train.csv\")\n",
    "df2 = pd.read_csv(\"dataset/test.csv\")\n",
    "toxic=df[\"toxic\"].copy()\n",
    "severe_toxic=df[\"severe_toxic\"].copy()\n",
    "obscene=df[\"obscene\"].copy()\n",
    "threat=df[\"threat\"].copy()\n",
    "insult=df[\"insult\"].copy()\n",
    "identity_hate=df[\"identity_hate\"].copy()"
   ]
  },
  {
   "cell_type": "markdown",
   "id": "5e003ae0",
   "metadata": {},
   "source": [
    "# Cleaning and preparing"
   ]
  },
  {
   "cell_type": "code",
   "execution_count": 13,
   "id": "52637198",
   "metadata": {},
   "outputs": [],
   "source": [
    "#stemmer = LancasterStemmer()\n",
    "\n",
    "#remove alphanumeric\n",
    "alphanumeric = lambda x: re.sub('\\w*\\d\\w*', ' ', x)\n",
    "\n",
    "# '[%s]' % re.escape(string.punctuation),' ' - replace punctuation with white space\n",
    "# .lower() - convert all strings to lowercase \n",
    "punc_lower = lambda x: re.sub('[%s]' % re.escape(string.punctuation), ' ', x.lower())\n",
    "\n",
    "# Remove all '\\n' in the string and replace it with a space\n",
    "remove_n = lambda x: re.sub(\"\\n\", \" \", x)\n",
    "\n",
    "# Remove all non-ascii characters \n",
    "remove_non_ascii = lambda x: re.sub(r'[^\\x00-\\x7f]',r' ', x)\n",
    "\n",
    "# Apply all the lambda functions wrote previously through .map on the comments column\n",
    "df[\"comment_text\"] = df[\"comment_text\"].map(alphanumeric).map(punc_lower).map(remove_n).map(remove_non_ascii)\n",
    "\n",
    "#stopwords\n",
    "df[\"comment_text\"] = df[\"comment_text\"].apply(lambda x: ' '.join([word for word in x.split() if word not in (stop)]))"
   ]
  },
  {
   "cell_type": "code",
   "execution_count": 41,
   "id": "2253340d",
   "metadata": {},
   "outputs": [],
   "source": [
    "x = df[\"comment_text\"].apply(lambda w:w.split())"
   ]
  },
  {
   "cell_type": "code",
   "execution_count": 26,
   "id": "64a46215",
   "metadata": {},
   "outputs": [],
   "source": [
    "lemmatizer=WordNetLemmatizer()\n",
    "for i in x:\n",
    "    for word in i:\n",
    "        word=lemmatizer.lemmatize(word)"
   ]
  },
  {
   "cell_type": "code",
   "execution_count": 90,
   "id": "4a0aec87",
   "metadata": {},
   "outputs": [
    {
     "data": {
      "text/plain": [
       "array([[0, 0, 0, 0, 0, 0],\n",
       "       [0, 0, 0, 0, 0, 0],\n",
       "       [0, 0, 0, 0, 0, 0],\n",
       "       ...,\n",
       "       [0, 0, 0, 0, 0, 0],\n",
       "       [0, 0, 0, 0, 0, 0],\n",
       "       [0, 0, 0, 0, 0, 0]], dtype=int64)"
      ]
     },
     "execution_count": 90,
     "metadata": {},
     "output_type": "execute_result"
    }
   ],
   "source": [
    "y_multilabel = np.c_[toxic, severe_toxic, obscene, threat, insult, identity_hate]\n",
    "y_multilabel"
   ]
  },
  {
   "cell_type": "markdown",
   "id": "ffbc88d0",
   "metadata": {},
   "source": [
    "# Text processing"
   ]
  },
  {
   "cell_type": "code",
   "execution_count": 43,
   "id": "5fdca70c",
   "metadata": {},
   "outputs": [],
   "source": [
    "#tfidf\n",
    "import sklearn\n",
    "from sklearn.feature_extraction.text import TfidfVectorizer\n",
    "from sklearn.metrics import confusion_matrix,precision_score,precision_recall_curve,recall_score,f1_score,classification_report\n",
    "from sklearn.naive_bayes import MultinomialNB\n",
    "from sklearn.model_selection import train_test_split,cross_val_score\n",
    "tfidf_vect = TfidfVectorizer(analyzer='word', token_pattern=r'\\w{1,}', max_features=100000,max_df=0.99,min_df=0.01)\n",
    "tfidf_vect.fit(df[\"comment_text\"])"
   ]
  },
  {
   "cell_type": "code",
   "execution_count": 91,
   "id": "fdc6e2aa",
   "metadata": {},
   "outputs": [],
   "source": [
    "train_x, test_x, train_y, test_y = train_test_split(df['comment_text'],y_multilabel)"
   ]
  },
  {
   "cell_type": "code",
   "execution_count": 92,
   "id": "b1215410",
   "metadata": {},
   "outputs": [],
   "source": [
    "xtrain_tfidf =  tfidf_vect.transform(train_x)\n",
    "xtest_tfidf =  tfidf_vect.transform(test_x)"
   ]
  },
  {
   "cell_type": "markdown",
   "id": "806737a0",
   "metadata": {},
   "source": [
    "# Model Training"
   ]
  },
  {
   "cell_type": "code",
   "execution_count": 114,
   "id": "ebbd7e52",
   "metadata": {},
   "outputs": [],
   "source": [
    "def train_model(classifier, X_train, Y_train, X_test):\n",
    "    classifier.fit(X_train,Y_train)\n",
    "    predictions=classifier.predict(X_test)\n",
    "    return predictions\n",
    "# knn_clf = KNeighborsClassifier()\n",
    "# knn_clf.fit(xtrain_tfidf, train_y)"
   ]
  },
  {
   "cell_type": "code",
   "execution_count": 117,
   "id": "049fd25b",
   "metadata": {},
   "outputs": [],
   "source": [
    "def accuracy(predictions, test_y):\n",
    "    allcorr=0\n",
    "    for i in range(len(predictions)):\n",
    "        corr=0\n",
    "        for j in range(6):\n",
    "            if predictions[i][j] == test_y[i][j]:\n",
    "                corr=corr+1\n",
    "        if corr==6:\n",
    "            allcorr=allcorr+1\n",
    "    print(allcorr/len(predictions))"
   ]
  },
  {
   "cell_type": "markdown",
   "id": "5ee667d8",
   "metadata": {},
   "source": [
    "# K Neighbours"
   ]
  },
  {
   "cell_type": "code",
   "execution_count": 115,
   "id": "71a75bde",
   "metadata": {},
   "outputs": [],
   "source": [
    "knn_clf = KNeighborsClassifier()\n",
    "knn_pred = train_model(knn_clf, xtrain_tfidf, train_y, xtest_tfidf)"
   ]
  },
  {
   "cell_type": "code",
   "execution_count": 118,
   "id": "29a1b726",
   "metadata": {},
   "outputs": [
    {
     "name": "stdout",
     "output_type": "stream",
     "text": [
      "0.8579199358283408\n"
     ]
    }
   ],
   "source": [
    "knn_accuracy=accuracy(knn_pred, test_y)"
   ]
  },
  {
   "cell_type": "markdown",
   "id": "196078de",
   "metadata": {},
   "source": [
    "# Random Forest"
   ]
  },
  {
   "cell_type": "code",
   "execution_count": 119,
   "id": "97bbcfd7",
   "metadata": {},
   "outputs": [],
   "source": [
    "from sklearn.ensemble import RandomForestClassifier\n",
    "forest_clf = RandomForestClassifier()\n",
    "forest_pred=train_model(forest_clf, xtrain_tfidf, train_y, xtest_tfidf)"
   ]
  },
  {
   "cell_type": "code",
   "execution_count": 120,
   "id": "1f9de971",
   "metadata": {},
   "outputs": [
    {
     "name": "stdout",
     "output_type": "stream",
     "text": [
      "0.900734464693054\n"
     ]
    }
   ],
   "source": [
    "forest_accuracy=accuracy(forest_pred,test_y)"
   ]
  },
  {
   "cell_type": "markdown",
   "id": "f4543542",
   "metadata": {},
   "source": [
    "# Evaluation"
   ]
  },
  {
   "cell_type": "code",
   "execution_count": 121,
   "id": "a09ccdc7",
   "metadata": {},
   "outputs": [
    {
     "data": {
      "text/plain": [
       "array([0.90451959, 0.90429399, 0.90286273])"
      ]
     },
     "execution_count": 121,
     "metadata": {},
     "output_type": "execute_result"
    }
   ],
   "source": [
    "#cross_val_score\n",
    "cross_val_score(forest_clf, xtrain_tfidf, train_y, cv=3, scoring=\"accuracy\")"
   ]
  },
  {
   "cell_type": "code",
   "execution_count": 124,
   "id": "60bbdc07",
   "metadata": {},
   "outputs": [
    {
     "name": "stdout",
     "output_type": "stream",
     "text": [
      "0.7530765095646093\n",
      "0.30299437837010973\n",
      "0.42898422148254517\n"
     ]
    }
   ],
   "source": [
    "print(precision_score(train_y, y_train_pred, average=\"weighted\"))\n",
    "print(recall_score(train_y, y_train_pred, average=\"weighted\"))\n",
    "print(f1_score(train_y, y_train_pred, average=\"weighted\"))"
   ]
  },
  {
   "cell_type": "markdown",
   "id": "deb89b92",
   "metadata": {},
   "source": [
    " model seems to be skewed"
   ]
  },
  {
   "cell_type": "markdown",
   "id": "651b6780",
   "metadata": {},
   "source": [
    "# 6 binary classes for each label instead of 1 Multilabel"
   ]
  },
  {
   "cell_type": "markdown",
   "id": "89729af0",
   "metadata": {},
   "source": [
    "toxic"
   ]
  },
  {
   "cell_type": "code",
   "execution_count": 66,
   "id": "aeb1ce14",
   "metadata": {},
   "outputs": [
    {
     "data": {
      "text/plain": [
       "array([0, 0, 1, ..., 0, 1, 0], dtype=int64)"
      ]
     },
     "execution_count": 66,
     "metadata": {},
     "output_type": "execute_result"
    }
   ],
   "source": [
    "knn_clf = KNeighborsClassifier()\n",
    "knn_clf.fit(xtrain_tfidf, train_y)\n",
    "knn_clf.predict(xtest_tfidf)"
   ]
  },
  {
   "cell_type": "code",
   "execution_count": 8,
   "id": "033a6ed2",
   "metadata": {},
   "outputs": [],
   "source": [
    "#metrics and more algos"
   ]
  },
  {
   "cell_type": "code",
   "execution_count": 69,
   "id": "5476b1bf",
   "metadata": {},
   "outputs": [
    {
     "data": {
      "text/plain": [
       "array([0, 0, 0, ..., 0, 0, 0], dtype=int64)"
      ]
     },
     "execution_count": 69,
     "metadata": {},
     "output_type": "execute_result"
    }
   ],
   "source": [
    "np.array(test_y)"
   ]
  },
  {
   "cell_type": "code",
   "execution_count": 71,
   "id": "3480aa5c",
   "metadata": {},
   "outputs": [
    {
     "data": {
      "text/plain": [
       "0.890106033639987"
      ]
     },
     "execution_count": 71,
     "metadata": {},
     "output_type": "execute_result"
    }
   ],
   "source": [
    "sum(knn_clf.predict(xtest_tfidf) == np.array(test_y))/len(test_y)"
   ]
  },
  {
   "cell_type": "markdown",
   "id": "cf421790",
   "metadata": {},
   "source": [
    "severe_toxic"
   ]
  },
  {
   "cell_type": "code",
   "execution_count": 73,
   "id": "3d1e3fad",
   "metadata": {},
   "outputs": [],
   "source": [
    "train_x, test_x, train_y, test_y = train_test_split(df['comment_text'],severe_toxic)"
   ]
  },
  {
   "cell_type": "code",
   "execution_count": 74,
   "id": "78b649d1",
   "metadata": {},
   "outputs": [
    {
     "data": {
      "text/plain": [
       "0.9896974406537488"
      ]
     },
     "execution_count": 74,
     "metadata": {},
     "output_type": "execute_result"
    }
   ],
   "source": [
    "knn_clf.fit(xtrain_tfidf, train_y)\n",
    "sum(knn_clf.predict(xtest_tfidf) == np.array(test_y))/len(test_y)"
   ]
  },
  {
   "cell_type": "markdown",
   "id": "c8dea8b7",
   "metadata": {},
   "source": [
    "obscene"
   ]
  },
  {
   "cell_type": "code",
   "execution_count": 75,
   "id": "4dcdcba0",
   "metadata": {},
   "outputs": [],
   "source": [
    "train_x, test_x, train_y, test_y = train_test_split(df['comment_text'],obscene)"
   ]
  },
  {
   "cell_type": "code",
   "execution_count": 76,
   "id": "4d700cdc",
   "metadata": {},
   "outputs": [
    {
     "data": {
      "text/plain": [
       "0.9452786203093274"
      ]
     },
     "execution_count": 76,
     "metadata": {},
     "output_type": "execute_result"
    }
   ],
   "source": [
    "knn_clf.fit(xtrain_tfidf, train_y)\n",
    "sum(knn_clf.predict(xtest_tfidf) == np.array(test_y))/len(test_y)"
   ]
  },
  {
   "cell_type": "markdown",
   "id": "4fd18670",
   "metadata": {},
   "source": [
    "threat"
   ]
  },
  {
   "cell_type": "code",
   "execution_count": 77,
   "id": "01913b7a",
   "metadata": {},
   "outputs": [],
   "source": [
    "train_x, test_x, train_y_threat, test_y_threat = train_test_split(df['comment_text'],threat)"
   ]
  },
  {
   "cell_type": "code",
   "execution_count": 78,
   "id": "96235efc",
   "metadata": {},
   "outputs": [
    {
     "data": {
      "text/plain": [
       "0.9970671546386584"
      ]
     },
     "execution_count": 78,
     "metadata": {},
     "output_type": "execute_result"
    }
   ],
   "source": [
    "knn_clf.fit(xtrain_tfidf, train_y_threat)\n",
    "sum(knn_clf.predict(xtest_tfidf) == np.array(test_y_threat))/len(test_y_threat)"
   ]
  },
  {
   "cell_type": "markdown",
   "id": "4d238122",
   "metadata": {},
   "source": [
    "insult"
   ]
  },
  {
   "cell_type": "code",
   "execution_count": 79,
   "id": "3cf9e634",
   "metadata": {},
   "outputs": [],
   "source": [
    "train_x, test_x, train_y_insult, test_y_insult = train_test_split(df['comment_text'],insult)"
   ]
  },
  {
   "cell_type": "code",
   "execution_count": 80,
   "id": "40e340a7",
   "metadata": {},
   "outputs": [
    {
     "data": {
      "text/plain": [
       "0.9499912265309703"
      ]
     },
     "execution_count": 80,
     "metadata": {},
     "output_type": "execute_result"
    }
   ],
   "source": [
    "knn_clf.fit(xtrain_tfidf, train_y_insult)\n",
    "sum(knn_clf.predict(xtest_tfidf) == np.array(test_y_insult))/len(test_y_insult)"
   ]
  },
  {
   "cell_type": "markdown",
   "id": "bc796531",
   "metadata": {},
   "source": [
    "identity hate"
   ]
  },
  {
   "cell_type": "code",
   "execution_count": 81,
   "id": "70cfd547",
   "metadata": {},
   "outputs": [],
   "source": [
    "train_x, test_x, train_y_idhate, test_y_idhate = train_test_split(df['comment_text'],identity_hate)"
   ]
  },
  {
   "cell_type": "code",
   "execution_count": 82,
   "id": "63c9116f",
   "metadata": {},
   "outputs": [
    {
     "data": {
      "text/plain": [
       "0.9913267991878274"
      ]
     },
     "execution_count": 82,
     "metadata": {},
     "output_type": "execute_result"
    }
   ],
   "source": [
    "knn_clf.fit(xtrain_tfidf, train_y_idhate)\n",
    "sum(knn_clf.predict(xtest_tfidf) == np.array(test_y_idhate))/len(test_y_idhate)"
   ]
  },
  {
   "cell_type": "code",
   "execution_count": 86,
   "id": "71c17ef0",
   "metadata": {},
   "outputs": [
    {
     "data": {
      "text/plain": [
       "0.9451783520918456"
      ]
     },
     "execution_count": 86,
     "metadata": {},
     "output_type": "execute_result"
    }
   ],
   "source": [
    "from sklearn.ensemble import RandomForestClassifier\n",
    "forest_clf = RandomForestClassifier()\n",
    "forest_clf.fit(xtrain_tfidf, train_y)\n",
    "sum(forest_clf.predict(xtest_tfidf) == np.array(test_y))/len(test_y)"
   ]
  },
  {
   "cell_type": "markdown",
   "id": "26a82bfe",
   "metadata": {},
   "source": [
    "# Random Forest Binary"
   ]
  },
  {
   "cell_type": "code",
   "execution_count": 87,
   "id": "be93562a",
   "metadata": {},
   "outputs": [
    {
     "data": {
      "text/plain": [
       "0.9908254581004187"
      ]
     },
     "execution_count": 87,
     "metadata": {},
     "output_type": "execute_result"
    }
   ],
   "source": [
    "forest_clf.fit(xtrain_tfidf, train_y_idhate)\n",
    "sum(forest_clf.predict(xtest_tfidf) == np.array(test_y_idhate))/len(test_y_idhate)"
   ]
  },
  {
   "cell_type": "markdown",
   "id": "8e23c2f2",
   "metadata": {},
   "source": [
    "# Exporting to predictions.csv"
   ]
  },
  {
   "cell_type": "code",
   "execution_count": 88,
   "id": "de0f5ddc",
   "metadata": {},
   "outputs": [
    {
     "data": {
      "text/html": [
       "<div>\n",
       "<style scoped>\n",
       "    .dataframe tbody tr th:only-of-type {\n",
       "        vertical-align: middle;\n",
       "    }\n",
       "\n",
       "    .dataframe tbody tr th {\n",
       "        vertical-align: top;\n",
       "    }\n",
       "\n",
       "    .dataframe thead th {\n",
       "        text-align: right;\n",
       "    }\n",
       "</style>\n",
       "<table border=\"1\" class=\"dataframe\">\n",
       "  <thead>\n",
       "    <tr style=\"text-align: right;\">\n",
       "      <th></th>\n",
       "      <th>id</th>\n",
       "      <th>comment_text</th>\n",
       "    </tr>\n",
       "  </thead>\n",
       "  <tbody>\n",
       "    <tr>\n",
       "      <th>0</th>\n",
       "      <td>00001cee341fdb12</td>\n",
       "      <td>Yo bitch Ja Rule is more succesful then you'll...</td>\n",
       "    </tr>\n",
       "    <tr>\n",
       "      <th>1</th>\n",
       "      <td>0000247867823ef7</td>\n",
       "      <td>== From RfC == \\n\\n The title is fine as it is...</td>\n",
       "    </tr>\n",
       "    <tr>\n",
       "      <th>2</th>\n",
       "      <td>00013b17ad220c46</td>\n",
       "      <td>\" \\n\\n == Sources == \\n\\n * Zawe Ashton on Lap...</td>\n",
       "    </tr>\n",
       "    <tr>\n",
       "      <th>3</th>\n",
       "      <td>00017563c3f7919a</td>\n",
       "      <td>:If you have a look back at the source, the in...</td>\n",
       "    </tr>\n",
       "    <tr>\n",
       "      <th>4</th>\n",
       "      <td>00017695ad8997eb</td>\n",
       "      <td>I don't anonymously edit articles at all.</td>\n",
       "    </tr>\n",
       "    <tr>\n",
       "      <th>...</th>\n",
       "      <td>...</td>\n",
       "      <td>...</td>\n",
       "    </tr>\n",
       "    <tr>\n",
       "      <th>153159</th>\n",
       "      <td>fffcd0960ee309b5</td>\n",
       "      <td>. \\n i totally agree, this stuff is nothing bu...</td>\n",
       "    </tr>\n",
       "    <tr>\n",
       "      <th>153160</th>\n",
       "      <td>fffd7a9a6eb32c16</td>\n",
       "      <td>== Throw from out field to home plate. == \\n\\n...</td>\n",
       "    </tr>\n",
       "    <tr>\n",
       "      <th>153161</th>\n",
       "      <td>fffda9e8d6fafa9e</td>\n",
       "      <td>\" \\n\\n == Okinotorishima categories == \\n\\n I ...</td>\n",
       "    </tr>\n",
       "    <tr>\n",
       "      <th>153162</th>\n",
       "      <td>fffe8f1340a79fc2</td>\n",
       "      <td>\" \\n\\n == \"\"One of the founding nations of the...</td>\n",
       "    </tr>\n",
       "    <tr>\n",
       "      <th>153163</th>\n",
       "      <td>ffffce3fb183ee80</td>\n",
       "      <td>\" \\n :::Stop already. Your bullshit is not wel...</td>\n",
       "    </tr>\n",
       "  </tbody>\n",
       "</table>\n",
       "<p>153164 rows × 2 columns</p>\n",
       "</div>"
      ],
      "text/plain": [
       "                      id                                       comment_text\n",
       "0       00001cee341fdb12  Yo bitch Ja Rule is more succesful then you'll...\n",
       "1       0000247867823ef7  == From RfC == \\n\\n The title is fine as it is...\n",
       "2       00013b17ad220c46  \" \\n\\n == Sources == \\n\\n * Zawe Ashton on Lap...\n",
       "3       00017563c3f7919a  :If you have a look back at the source, the in...\n",
       "4       00017695ad8997eb          I don't anonymously edit articles at all.\n",
       "...                  ...                                                ...\n",
       "153159  fffcd0960ee309b5  . \\n i totally agree, this stuff is nothing bu...\n",
       "153160  fffd7a9a6eb32c16  == Throw from out field to home plate. == \\n\\n...\n",
       "153161  fffda9e8d6fafa9e  \" \\n\\n == Okinotorishima categories == \\n\\n I ...\n",
       "153162  fffe8f1340a79fc2  \" \\n\\n == \"\"One of the founding nations of the...\n",
       "153163  ffffce3fb183ee80  \" \\n :::Stop already. Your bullshit is not wel...\n",
       "\n",
       "[153164 rows x 2 columns]"
      ]
     },
     "execution_count": 88,
     "metadata": {},
     "output_type": "execute_result"
    }
   ],
   "source": [
    "df2"
   ]
  },
  {
   "cell_type": "code",
   "execution_count": 128,
   "id": "ad478779",
   "metadata": {},
   "outputs": [
    {
     "name": "stdout",
     "output_type": "stream",
     "text": [
      "[[0 0 0 0 0 0]\n",
      " [0 0 0 0 0 0]\n",
      " [0 0 0 0 0 0]\n",
      " ...\n",
      " [0 0 0 0 0 0]\n",
      " [0 0 0 0 0 0]\n",
      " [0 0 0 0 0 0]]\n"
     ]
    }
   ],
   "source": [
    "X_valid = df2[\"comment_text\"]\n",
    "X_valid_tfidf =  tfidf_vect.transform(X_valid)\n",
    "final_pred = forest_clf.predict(X_valid_tfidf)\n",
    "print(final_pred)"
   ]
  },
  {
   "cell_type": "code",
   "execution_count": 129,
   "id": "4a6e393b",
   "metadata": {},
   "outputs": [],
   "source": [
    "toxic_final = final_pred[:,0]\n",
    "severe_toxic_final = final_pred[:,1]\n",
    "obscene_final = final_pred[:,2]\n",
    "threat_final = final_pred[:,3]\n",
    "insult_final = final_pred[:,4]\n",
    "identity_hate_final = final_pred[:,5]\n",
    "#df.insert(location, column_name, list_of_values)\n",
    "df2.insert(2, 'toxic', toxic_final)\n",
    "df2.insert(3, 'severe_toxic', severe_toxic_final)\n",
    "df2.insert(4, 'obscene', obscene_final)\n",
    "df2.insert(5, 'threat', threat_final)\n",
    "df2.insert(6, 'insult', insult_final)\n",
    "df2.insert(7, 'identity_hate', identity_hate_final)"
   ]
  },
  {
   "cell_type": "code",
   "execution_count": 130,
   "id": "921b615b",
   "metadata": {},
   "outputs": [],
   "source": [
    "df.to_csv(r'predictions.csv', index = None, header=True)"
   ]
  }
 ],
 "metadata": {
  "kernelspec": {
   "display_name": "Python 3",
   "language": "python",
   "name": "python3"
  },
  "language_info": {
   "codemirror_mode": {
    "name": "ipython",
    "version": 3
   },
   "file_extension": ".py",
   "mimetype": "text/x-python",
   "name": "python",
   "nbconvert_exporter": "python",
   "pygments_lexer": "ipython3",
   "version": "3.8.8"
  }
 },
 "nbformat": 4,
 "nbformat_minor": 5
}
