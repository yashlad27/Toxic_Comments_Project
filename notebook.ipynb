{
 "cells": [
  {
   "cell_type": "code",
   "execution_count": 1,
   "id": "d60e9fff",
   "metadata": {},
   "outputs": [],
   "source": [
    "import numpy as np\n",
    "import pandas as pd\n",
    "import matplotlib.pyplot as plt\n",
    "from sklearn.neighbors import KNeighborsClassifier\n",
    "from nltk.corpus import stopwords\n",
    "# from nltk.stem.lancaster import LancasterStemmer\n",
    "\n",
    "import re\n",
    "import string"
   ]
  },
  {
   "cell_type": "code",
   "execution_count": 2,
   "id": "e237483e",
   "metadata": {},
   "outputs": [],
   "source": [
    "stop = stopwords.words('english')\n",
    "df = pd.read_csv(\"dataset/train.csv\")\n",
    "df2 = pd.read_csv(\"dataset/test.csv\")\n",
    "toxic=np.array(df[\"toxic\"])\n",
    "severe_toxic=np.array(df[\"severe_toxic\"])\n",
    "obscene=np.array(df[\"obscene\"])\n",
    "threat=np.array(df[\"threat\"])\n",
    "insult=np.array(df[\"insult\"])\n",
    "identity_hate=np.array(df[\"identity_hate\"])"
   ]
  },
  {
   "cell_type": "code",
   "execution_count": 3,
   "id": "52637198",
   "metadata": {},
   "outputs": [],
   "source": [
    "# stemmer = LancasterStemmer()\n",
    "\n",
    "#remove alphanumeric\n",
    "alphanumeric = lambda x: re.sub('\\w*\\d\\w*', ' ', x)\n",
    "\n",
    "# '[%s]' % re.escape(string.punctuation),' ' - replace punctuation with white space\n",
    "# .lower() - convert all strings to lowercase \n",
    "punc_lower = lambda x: re.sub('[%s]' % re.escape(string.punctuation), ' ', x.lower())\n",
    "\n",
    "# Remove all '\\n' in the string and replace it with a space\n",
    "remove_n = lambda x: re.sub(\"\\n\", \" \", x)\n",
    "\n",
    "# Remove all non-ascii characters \n",
    "remove_non_ascii = lambda x: re.sub(r'[^\\x00-\\x7f]',r' ', x)\n",
    "\n",
    "# Apply all the lambda functions wrote previously through .map on the comments column\n",
    "df[\"comment_text\"] = df[\"comment_text\"].map(alphanumeric).map(punc_lower).map(remove_n).map(remove_non_ascii)\n",
    "\n",
    "#stopwords\n",
    "df[\"comment_text\"] = df[\"comment_text\"].apply(lambda x: ' '.join([word for word in x.split() if word not in (stop)]))\n",
    "\n",
    "#base form\n",
    "# df[\"comment_text\"] = df[\"comment_text\"].apply(lambda x: [stemmer.stem(y) for y in x])\n",
    "x = np.array(df[\"comment_text\"].apply(lambda w:w.split()))"
   ]
  },
  {
   "cell_type": "code",
   "execution_count": 4,
   "id": "4a0aec87",
   "metadata": {},
   "outputs": [],
   "source": [
    "trainn = int(0.8 * 159571)\n",
    "\n",
    "train_x=x[:trainn]\n",
    "test_x=x[trainn:]\n",
    "\n",
    "y_train=np.c_[toxic[:trainn],severe_toxic[:trainn],obscene[:trainn],threat[:trainn],insult[:trainn],identity_hate[:trainn]]\n",
    "y_test=np.c_[toxic[trainn:],severe_toxic[trainn:],obscene[trainn:],threat[trainn:],insult[trainn:],identity_hate[trainn:]]"
   ]
  },
  {
   "cell_type": "code",
   "execution_count": 6,
   "id": "5fdca70c",
   "metadata": {},
   "outputs": [],
   "source": [
    "#bag of words and tfidf"
   ]
  },
  {
   "cell_type": "code",
   "execution_count": 7,
   "id": "aeb1ce14",
   "metadata": {},
   "outputs": [],
   "source": [
    "# knn_clf = KNeighborsClassifier()\n",
    "# knn_clf.fit(X_train, y_train)\n",
    "# knn_clf.predict(X_test)"
   ]
  },
  {
   "cell_type": "code",
   "execution_count": 8,
   "id": "033a6ed2",
   "metadata": {},
   "outputs": [],
   "source": [
    "#metrics and more algos"
   ]
  },
  {
   "cell_type": "code",
   "execution_count": null,
   "id": "5476b1bf",
   "metadata": {},
   "outputs": [],
   "source": []
  }
 ],
 "metadata": {
  "kernelspec": {
   "display_name": "Python 3",
   "language": "python",
   "name": "python3"
  },
  "language_info": {
   "codemirror_mode": {
    "name": "ipython",
    "version": 3
   },
   "file_extension": ".py",
   "mimetype": "text/x-python",
   "name": "python",
   "nbconvert_exporter": "python",
   "pygments_lexer": "ipython3",
   "version": "3.8.8"
  }
 },
 "nbformat": 4,
 "nbformat_minor": 5
}
